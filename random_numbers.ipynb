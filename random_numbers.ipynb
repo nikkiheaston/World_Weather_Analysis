{
 "cells": [
  {
   "cell_type": "code",
   "execution_count": 3,
   "id": "52c5be09",
   "metadata": {},
   "outputs": [],
   "source": [
    "# Import the random module\n",
    "import random"
   ]
  },
  {
   "cell_type": "code",
   "execution_count": 4,
   "id": "63f0fbf9",
   "metadata": {},
   "outputs": [
    {
     "data": {
      "text/plain": [
       "-28"
      ]
     },
     "execution_count": 4,
     "metadata": {},
     "output_type": "execute_result"
    }
   ],
   "source": [
    "random.randint(-90, 90)"
   ]
  },
  {
   "cell_type": "code",
   "execution_count": 5,
   "id": "b4429894",
   "metadata": {},
   "outputs": [
    {
     "data": {
      "text/plain": [
       "0.49985842289567617"
      ]
     },
     "execution_count": 5,
     "metadata": {},
     "output_type": "execute_result"
    }
   ],
   "source": [
    "random.random()"
   ]
  },
  {
   "cell_type": "code",
   "execution_count": 6,
   "id": "de8cb8d5",
   "metadata": {},
   "outputs": [
    {
     "data": {
      "text/plain": [
       "-62.89362889887359"
      ]
     },
     "execution_count": 6,
     "metadata": {},
     "output_type": "execute_result"
    }
   ],
   "source": [
    "random_number = random.randint(-90, 89) + random.random()\n",
    "random_number"
   ]
  },
  {
   "cell_type": "code",
   "execution_count": 7,
   "id": "76e088f9",
   "metadata": {},
   "outputs": [
    {
     "data": {
      "text/plain": [
       "[71.39957848020791,\n",
       " 3.567061597551626,\n",
       " 31.001109422218676,\n",
       " 54.51119910921043,\n",
       " 89.03970197243045,\n",
       " 31.93416651515586,\n",
       " -83.50024226461129,\n",
       " -14.652498827269312,\n",
       " -6.742260987409002,\n",
       " 34.129006522269876]"
      ]
     },
     "execution_count": 7,
     "metadata": {},
     "output_type": "execute_result"
    }
   ],
   "source": [
    "# Generate ten random floating-point decimal latitudes between -90 and 89\n",
    "\n",
    "x=1\n",
    "latitudes = []\n",
    "while x < 11:\n",
    "    random_lat = random.randint(-90, 89) + random.random()\n",
    "    latitudes.append(random_lat)\n",
    "    x += 1\n",
    "    \n",
    "   \n",
    "\n",
    "latitudes"
   ]
  },
  {
   "cell_type": "code",
   "execution_count": null,
   "id": "503b82be",
   "metadata": {},
   "outputs": [],
   "source": []
  },
  {
   "cell_type": "code",
   "execution_count": 12,
   "id": "58d3769b",
   "metadata": {},
   "outputs": [
    {
     "name": "stdout",
     "output_type": "stream",
     "text": [
      "0\n",
      "2\n",
      "4\n",
      "6\n",
      "8\n"
     ]
    },
    {
     "data": {
      "text/plain": [
       "[-8.556608148873977,\n",
       " 49.635186266695655,\n",
       " 6.184743857483669,\n",
       " -44.34526078764401,\n",
       " 83.26679444589806]"
      ]
     },
     "execution_count": 12,
     "metadata": {},
     "output_type": "execute_result"
    }
   ],
   "source": [
    "latitudes = []\n",
    "for i in range(0, 10, 2):\n",
    "    print(i)\n",
    "    random_lat = random.randint(-90, 89) + random.random()\n",
    "    latitudes.append(random_lat)\n",
    "latitudes"
   ]
  },
  {
   "cell_type": "code",
   "execution_count": 16,
   "id": "9e5fa571",
   "metadata": {},
   "outputs": [
    {
     "data": {
      "text/plain": [
       "0"
      ]
     },
     "execution_count": 16,
     "metadata": {},
     "output_type": "execute_result"
    }
   ],
   "source": [
    "random.randrange(0, 10, step=10)"
   ]
  },
  {
   "cell_type": "code",
   "execution_count": 14,
   "id": "09e1700b",
   "metadata": {},
   "outputs": [
    {
     "data": {
      "text/plain": [
       "9"
      ]
     },
     "execution_count": 14,
     "metadata": {},
     "output_type": "execute_result"
    }
   ],
   "source": [
    "random.randrange(-90, 90, step=3)"
   ]
  },
  {
   "cell_type": "code",
   "execution_count": 9,
   "id": "2dadc4f9",
   "metadata": {},
   "outputs": [
    {
     "data": {
      "text/plain": [
       "-34.53144806477908"
      ]
     },
     "execution_count": 9,
     "metadata": {},
     "output_type": "execute_result"
    }
   ],
   "source": [
    "random.uniform(-90, 90)"
   ]
  },
  {
   "cell_type": "code",
   "execution_count": 10,
   "id": "abd93390",
   "metadata": {},
   "outputs": [],
   "source": [
    "# Import the NumPy module\n",
    "import numpy as np"
   ]
  },
  {
   "cell_type": "code",
   "execution_count": 11,
   "id": "1f811be7",
   "metadata": {},
   "outputs": [
    {
     "data": {
      "text/plain": [
       "26.97219220993574"
      ]
     },
     "execution_count": 11,
     "metadata": {},
     "output_type": "execute_result"
    }
   ],
   "source": [
    "np.random.uniform(-90.000, 90.000)"
   ]
  },
  {
   "cell_type": "code",
   "execution_count": 12,
   "id": "6446febd",
   "metadata": {},
   "outputs": [
    {
     "data": {
      "text/plain": [
       "-30.747245630131466"
      ]
     },
     "execution_count": 12,
     "metadata": {},
     "output_type": "execute_result"
    }
   ],
   "source": [
    "np.random.uniform(low=-90, high=90)"
   ]
  },
  {
   "cell_type": "code",
   "execution_count": 13,
   "id": "0d6c8fbf",
   "metadata": {},
   "outputs": [
    {
     "data": {
      "text/plain": [
       "array([-55.60806193, -62.7466929 ,  81.48230295,  64.66693081,\n",
       "       -79.69075542, -16.04412794, -48.49968836,  32.39599199,\n",
       "        89.34009192,  75.37008636, -86.11904128,  52.33898131,\n",
       "       -74.97776694, -36.70136862, -77.43182268,  58.74330083,\n",
       "       -19.7904766 , -79.01416381, -68.15408041, -28.93996448,\n",
       "       -42.91926165, -11.23106136, -21.79237121,  58.18787714,\n",
       "        76.99615264,  22.53492503,  26.65591718, -53.39168154,\n",
       "        -6.47543993,  28.21668945,  64.11041064,  31.5002945 ,\n",
       "        89.7127396 , -53.82697422,  27.58569483,  45.68389772,\n",
       "        70.48227989, -14.29383873,   7.72218002, -67.179724  ,\n",
       "        29.19819507,   8.35795464, -10.15302444, -18.70063089,\n",
       "        44.91404015,  -0.44835758,  75.42074768,  73.0660597 ,\n",
       "       -61.16320006,  81.44377099])"
      ]
     },
     "execution_count": 13,
     "metadata": {},
     "output_type": "execute_result"
    }
   ],
   "source": [
    "np.random.uniform(-90.000, 90.000, size=50)"
   ]
  },
  {
   "cell_type": "code",
   "execution_count": 14,
   "id": "113c98c2",
   "metadata": {},
   "outputs": [],
   "source": [
    "# Import timeit.\n",
    "import timeit"
   ]
  },
  {
   "cell_type": "code",
   "execution_count": 15,
   "id": "b55c12c2",
   "metadata": {},
   "outputs": [
    {
     "name": "stdout",
     "output_type": "stream",
     "text": [
      "16.6 µs ± 111 ns per loop (mean ± std. dev. of 7 runs, 100000 loops each)\n"
     ]
    }
   ],
   "source": [
    "%timeit np.random.uniform(-90.000, 90.000, size=1500)"
   ]
  },
  {
   "cell_type": "code",
   "execution_count": 16,
   "id": "4d375b38",
   "metadata": {},
   "outputs": [
    {
     "name": "stdout",
     "output_type": "stream",
     "text": [
      "2.34 ms ± 99.4 µs per loop (mean ± std. dev. of 7 runs, 100 loops each)\n"
     ]
    }
   ],
   "source": [
    "def latitudes(size):\n",
    "    latitudes = []\n",
    "    x = 0\n",
    "    while x < (size):\n",
    "        random_lat = random.randint(-90, 90) + random.random()\n",
    "        latitudes.append(random_lat)\n",
    "        x += 1\n",
    "    return latitudes\n",
    "# Call the function with 1500.\n",
    "%timeit latitudes(1500)"
   ]
  },
  {
   "cell_type": "code",
   "execution_count": null,
   "id": "bbe46196",
   "metadata": {},
   "outputs": [],
   "source": []
  }
 ],
 "metadata": {
  "kernelspec": {
   "display_name": "PythonData",
   "language": "python",
   "name": "pythondata"
  },
  "language_info": {
   "codemirror_mode": {
    "name": "ipython",
    "version": 3
   },
   "file_extension": ".py",
   "mimetype": "text/x-python",
   "name": "python",
   "nbconvert_exporter": "python",
   "pygments_lexer": "ipython3",
   "version": "3.7.11"
  }
 },
 "nbformat": 4,
 "nbformat_minor": 5
}
